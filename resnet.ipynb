{
 "cells": [
  {
   "cell_type": "code",
   "execution_count": 1,
   "metadata": {
    "_cell_guid": "b1076dfc-b9ad-4769-8c92-a6c4dae69d19",
    "_uuid": "8f2839f25d086af736a60e9eeb907d3b93b6e0e5"
   },
   "outputs": [],
   "source": [
    "import cv2\n",
    "import os\n",
    "import numpy as np\n",
    "from tqdm import tqdm\n",
    "import tensorflow as tf\n",
    "from sklearn.utils import shuffle\n",
    "from tensorflow.keras import Sequential\n",
    "from tensorflow.keras.layers import Dense, Flatten\n",
    "from tensorflow.keras.applications.vgg16 import VGG16\n",
    "np.random.seed(0)\n",
    "tf.compat.v1.random.set_random_seed(0)"
   ]
  },
  {
   "cell_type": "code",
   "execution_count": 2,
   "metadata": {
    "_cell_guid": "79c7e3d0-c299-4dcb-8224-4455121ee9b0",
    "_uuid": "d629ff2d2480ee46fbb7e2d37f6b5fab8052498a"
   },
   "outputs": [],
   "source": [
    "fakepath = '/kaggle/input/model-training-dataset/fake/'\n",
    "originalpath = \"/kaggle/input/model-training-dataset/original/\"\n",
    "fake = []\n",
    "original = []"
   ]
  },
  {
   "cell_type": "code",
   "execution_count": 3,
   "metadata": {},
   "outputs": [
    {
     "name": "stderr",
     "output_type": "stream",
     "text": [
      "100%|██████████| 1481/1481 [00:01<00:00, 772.38it/s]\n"
     ]
    }
   ],
   "source": [
    "for name in tqdm(os.listdir(fakepath)):\n",
    "    for frame in os.listdir(fakepath + name):\n",
    "        fake.append(fakepath + name + '/' + frame)"
   ]
  },
  {
   "cell_type": "code",
   "execution_count": 4,
   "metadata": {},
   "outputs": [
    {
     "name": "stderr",
     "output_type": "stream",
     "text": [
      "100%|██████████| 362/362 [00:00<00:00, 670.19it/s]\n"
     ]
    }
   ],
   "source": [
    "for name in tqdm(os.listdir(originalpath)):\n",
    "    for frame in os.listdir(originalpath + name):\n",
    "        original.append(originalpath + name + '/' + frame)"
   ]
  },
  {
   "cell_type": "code",
   "execution_count": 5,
   "metadata": {},
   "outputs": [],
   "source": [
    "y = np.ones(len(original))\n",
    "x = np.zeros(len(fake))\n",
    "label = np.concatenate([y, x])\n",
    "names_list = original + fake\n",
    "new_data, new_label = shuffle(names_list, label,  random_state = 0)\n",
    "train, test, y_train, y_test = new_data[:-100], new_data[-100:], new_label[:-100], new_label[-100:]"
   ]
  },
  {
   "cell_type": "code",
   "execution_count": 6,
   "metadata": {},
   "outputs": [],
   "source": [
    "def decode_img(img):\n",
    "    img = tf.image.decode_jpeg(img, channels=3)\n",
    "    img = tf.image.convert_image_dtype(img, tf.float32) \n",
    "    img = tf.image.random_flip_left_right(img)\n",
    "    img = tf.image.random_flip_up_down(img)\n",
    "    img = tf.image.random_saturation(img, 1, 3)\n",
    "    img = tf.image.random_brightness(img, 0.3)\n",
    "    img = tf.image.resize(img, [75, 75])\n",
    "    return img\n",
    "\n",
    "def get_label(file_path):\n",
    "    cat = tf.strings.split(file_path, '/')[4]\n",
    "    if cat == b'fake':\n",
    "        return 1\n",
    "    return 0\n",
    "\n",
    "def process_path(file_path):\n",
    "    label = get_label(file_path)\n",
    "    img = tf.io.read_file(file_path)\n",
    "    img = decode_img(img)\n",
    "    return img, label"
   ]
  },
  {
   "cell_type": "code",
   "execution_count": 7,
   "metadata": {},
   "outputs": [],
   "source": [
    "num_threads, num_epochs, train_len = 5, 3000, len(train) \n",
    "train_ds = tf.data.Dataset.from_tensor_slices(train)\n",
    "train_ds = train_ds.map(process_path, num_parallel_calls=tf.data.experimental.AUTOTUNE)"
   ]
  },
  {
   "cell_type": "code",
   "execution_count": 8,
   "metadata": {},
   "outputs": [],
   "source": [
    "train_ds = train_ds.shuffle(train_len)\n",
    "train_ds = train_ds.batch(64)\n",
    "train_ds = train_ds.prefetch(1)"
   ]
  },
  {
   "cell_type": "code",
   "execution_count": 9,
   "metadata": {},
   "outputs": [
    {
     "name": "stdout",
     "output_type": "stream",
     "text": [
      "Downloading data from https://storage.googleapis.com/tensorflow/keras-applications/resnet/resnet152v2_weights_tf_dim_ordering_tf_kernels_notop.h5\n",
      "234553344/234545216 [==============================] - 3s 0us/step\n"
     ]
    }
   ],
   "source": [
    "from tensorflow.keras.applications import ResNet152V2\n",
    "model = ResNet152V2(\n",
    "    include_top=False,\n",
    "    weights=\"imagenet\",\n",
    "    input_shape=(75, 75, 3))"
   ]
  },
  {
   "cell_type": "code",
   "execution_count": 10,
   "metadata": {},
   "outputs": [],
   "source": [
    "for layer in model.layers[:42]:\n",
    "    layer.trainable = False"
   ]
  },
  {
   "cell_type": "code",
   "execution_count": 11,
   "metadata": {},
   "outputs": [],
   "source": [
    "lr_schedule = tf.keras.optimizers.schedules.ExponentialDecay(\n",
    "    initial_learning_rate=1e-1,\n",
    "    decay_steps=10,\n",
    "    decay_rate=0.9)\n",
    "opt = tf.keras.optimizers.Adam(\n",
    "    learning_rate= lr_schedule,\n",
    "    beta_1=0.9,\n",
    "    beta_2=0.999,\n",
    "    epsilon=1e-07,\n",
    "    amsgrad=False)\n",
    "tp = tf.keras.metrics.TruePositives(thresholds=None, name=None, dtype=None)\n",
    "tn = tf.keras.metrics.TrueNegatives(thresholds=None, name=None, dtype=None)\n",
    "fp = tf.keras.metrics.FalsePositives(thresholds=None, name=None, dtype=None)\n",
    "fn = tf.keras.metrics.FalseNegatives(thresholds=None, name=None, dtype=None)"
   ]
  },
  {
   "cell_type": "code",
   "execution_count": 12,
   "metadata": {},
   "outputs": [],
   "source": [
    "classifier = Sequential()\n",
    "classifier.add(model)\n",
    "classifier.add(Flatten())\n",
    "classifier.add(Dense(1024, activation='relu'))\n",
    "classifier.add(Dense(1, activation = 'sigmoid'))\n",
    "classifier.compile(optimizer = opt, loss = 'binary_crossentropy', metrics = ['accuracy', tp,tn,fp,fn])"
   ]
  },
  {
   "cell_type": "code",
   "execution_count": 13,
   "metadata": {},
   "outputs": [
    {
     "name": "stdout",
     "output_type": "stream",
     "text": [
      "Epoch 1/20\n",
      "944/944 [==============================] - 154s 163ms/step - loss: 10.2556 - accuracy: 0.7818 - true_positives: 47214.0000 - true_negatives: 8.0000 - false_positives: 13141.0000 - false_negatives: 42.0000\n",
      "Epoch 2/20\n",
      "944/944 [==============================] - 154s 164ms/step - loss: 0.5240 - accuracy: 0.7823 - true_positives: 47256.0000 - true_negatives: 0.0000e+00 - false_positives: 13149.0000 - false_negatives: 0.0000e+00\n",
      "Epoch 3/20\n",
      "944/944 [==============================] - 155s 164ms/step - loss: 0.5240 - accuracy: 0.7823 - true_positives: 47256.0000 - true_negatives: 0.0000e+00 - false_positives: 13149.0000 - false_negatives: 0.0000e+00\n",
      "Epoch 4/20\n",
      "944/944 [==============================] - 155s 164ms/step - loss: 0.5240 - accuracy: 0.7823 - true_positives: 47256.0000 - true_negatives: 0.0000e+00 - false_positives: 13149.0000 - false_negatives: 0.0000e+00\n",
      "Epoch 5/20\n",
      "944/944 [==============================] - 154s 163ms/step - loss: 0.5240 - accuracy: 0.7823 - true_positives: 47256.0000 - true_negatives: 0.0000e+00 - false_positives: 13149.0000 - false_negatives: 0.0000e+00\n",
      "Epoch 6/20\n",
      "944/944 [==============================] - 154s 163ms/step - loss: 0.5240 - accuracy: 0.7823 - true_positives: 47256.0000 - true_negatives: 0.0000e+00 - false_positives: 13149.0000 - false_negatives: 0.0000e+00\n",
      "Epoch 7/20\n",
      "944/944 [==============================] - 154s 163ms/step - loss: 0.5240 - accuracy: 0.7823 - true_positives: 47256.0000 - true_negatives: 0.0000e+00 - false_positives: 13149.0000 - false_negatives: 0.0000e+00\n",
      "Epoch 8/20\n",
      "944/944 [==============================] - 154s 163ms/step - loss: 0.5240 - accuracy: 0.7823 - true_positives: 47256.0000 - true_negatives: 0.0000e+00 - false_positives: 13149.0000 - false_negatives: 0.0000e+00\n",
      "Epoch 9/20\n",
      "944/944 [==============================] - 154s 163ms/step - loss: 0.5240 - accuracy: 0.7823 - true_positives: 47256.0000 - true_negatives: 0.0000e+00 - false_positives: 13149.0000 - false_negatives: 0.0000e+00\n",
      "Epoch 10/20\n",
      "944/944 [==============================] - 155s 164ms/step - loss: 0.5240 - accuracy: 0.7823 - true_positives: 47256.0000 - true_negatives: 0.0000e+00 - false_positives: 13149.0000 - false_negatives: 0.0000e+00\n",
      "Epoch 11/20\n",
      "944/944 [==============================] - 155s 164ms/step - loss: 0.5240 - accuracy: 0.7823 - true_positives: 47256.0000 - true_negatives: 0.0000e+00 - false_positives: 13149.0000 - false_negatives: 0.0000e+00\n",
      "Epoch 12/20\n",
      "944/944 [==============================] - 155s 164ms/step - loss: 0.5240 - accuracy: 0.7823 - true_positives: 47256.0000 - true_negatives: 0.0000e+00 - false_positives: 13149.0000 - false_negatives: 0.0000e+00\n",
      "Epoch 13/20\n",
      "944/944 [==============================] - 155s 164ms/step - loss: 0.5240 - accuracy: 0.7823 - true_positives: 47256.0000 - true_negatives: 0.0000e+00 - false_positives: 13149.0000 - false_negatives: 0.0000e+00\n",
      "Epoch 14/20\n",
      "944/944 [==============================] - 154s 163ms/step - loss: 0.5240 - accuracy: 0.7823 - true_positives: 47256.0000 - true_negatives: 0.0000e+00 - false_positives: 13149.0000 - false_negatives: 0.0000e+00\n",
      "Epoch 15/20\n",
      "944/944 [==============================] - 154s 163ms/step - loss: 0.5240 - accuracy: 0.7823 - true_positives: 47256.0000 - true_negatives: 0.0000e+00 - false_positives: 13149.0000 - false_negatives: 0.0000e+00\n",
      "Epoch 16/20\n",
      "944/944 [==============================] - 154s 163ms/step - loss: 0.5240 - accuracy: 0.7823 - true_positives: 47256.0000 - true_negatives: 0.0000e+00 - false_positives: 13149.0000 - false_negatives: 0.0000e+00\n",
      "Epoch 17/20\n",
      "944/944 [==============================] - 154s 163ms/step - loss: 0.5240 - accuracy: 0.7823 - true_positives: 47256.0000 - true_negatives: 0.0000e+00 - false_positives: 13149.0000 - false_negatives: 0.0000e+00\n",
      "Epoch 18/20\n",
      "944/944 [==============================] - 154s 163ms/step - loss: 0.5240 - accuracy: 0.7823 - true_positives: 47256.0000 - true_negatives: 0.0000e+00 - false_positives: 13149.0000 - false_negatives: 0.0000e+00\n",
      "Epoch 19/20\n",
      "944/944 [==============================] - 154s 163ms/step - loss: 0.5240 - accuracy: 0.7823 - true_positives: 47256.0000 - true_negatives: 0.0000e+00 - false_positives: 13149.0000 - false_negatives: 0.0000e+00\n",
      "Epoch 20/20\n",
      "944/944 [==============================] - 154s 163ms/step - loss: 0.5240 - accuracy: 0.7823 - true_positives: 47256.0000 - true_negatives: 0.0000e+00 - false_positives: 13149.0000 - false_negatives: 0.0000e+00\n"
     ]
    }
   ],
   "source": [
    "history = classifier.fit(train_ds, epochs = 20, shuffle=True, batch_size=64)"
   ]
  },
  {
   "cell_type": "code",
   "execution_count": 15,
   "metadata": {},
   "outputs": [
    {
     "data": {
      "image/png": "[encoded data removed]",
      "text/plain": [
       "<Figure size 432x288 with 1 Axes>"
      ]
     },
     "metadata": {
      "needs_background": "light"
     },
     "output_type": "display_data"
    }
   ],
   "source": [
    "# summarize history for accuracy\n",
    "import matplotlib.pyplot as plt\n",
    "plt.plot(history.history['accuracy'])\n",
    "# plt.plot(history.history['val_accuracy'])\n",
    "plt.title('Resnet accuracy')\n",
    "plt.ylabel('accuracy')\n",
    "plt.xlabel('epoch')\n",
    "plt.legend(['train', 'test'], loc='lower right')\n",
    "plt.show()\n"
   ]
  },
  {
   "cell_type": "code",
   "execution_count": 16,
   "metadata": {},
   "outputs": [
    {
     "data": {
      "image/png": "[encoded data removed]",
      "text/plain": [
       "<Figure size 432x288 with 1 Axes>"
      ]
     },
     "metadata": {
      "needs_background": "light"
     },
     "output_type": "display_data"
    }
   ],
   "source": [
    "# summarize history for loss\n",
    "plt.plot(history.history['loss'])\n",
    "# plt.plot(history.history['val_loss'])\n",
    "plt.title('Resnet loss')\n",
    "plt.ylabel('loss')\n",
    "plt.xlabel('epoch')\n",
    "plt.legend(['train', 'test'], loc='upper right')\n",
    "plt.show()"
   ]
  },
  {
   "cell_type": "code",
   "execution_count": null,
   "metadata": {},
   "outputs": [],
   "source": []
  }
 ],
 "metadata": {
  "kernelspec": {
   "display_name": "Python 3",
   "language": "python",
   "name": "python3"
  },
  "language_info": {
   "codemirror_mode": {
    "name": "ipython",
    "version": 3
   },
   "file_extension": ".py",
   "mimetype": "text/x-python",
   "name": "python",
   "nbconvert_exporter": "python",
   "pygments_lexer": "ipython3",
   "version": "3.7.5"
  }
 },
 "nbformat": 4,
 "nbformat_minor": 4
}
